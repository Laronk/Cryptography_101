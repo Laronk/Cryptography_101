{
 "cells": [
  {
   "cell_type": "code",
   "execution_count": 38,
   "metadata": {},
   "outputs": [],
   "source": [
    "from math import gcd\n",
    "from math import sqrt"
   ]
  },
  {
   "cell_type": "markdown",
   "metadata": {},
   "source": [
    "# Zestaw zadań nr 3\n",
    "---"
   ]
  },
  {
   "cell_type": "code",
   "execution_count": 39,
   "metadata": {},
   "outputs": [],
   "source": [
    "def isprime(a):\n",
    "    if a < 2: return False\n",
    "    for x in range(2, int(sqrt(a)) + 1):\n",
    "        if a % x == 0:\n",
    "            return False\n",
    "    return True"
   ]
  },
  {
   "cell_type": "markdown",
   "metadata": {},
   "source": [
    "## Zad.1\n",
    "\n",
    "Wygeneruj 16-bitową liczbę pierwszą p i sprawdź czy „Twój” numer indeksu jest generatorem grupy Z\\*p."
   ]
  },
  {
   "cell_type": "code",
   "execution_count": 40,
   "metadata": {},
   "outputs": [],
   "source": [
    "def is_generator(generator_candidate, prime):\n",
    "    for curr_number in range(1, prime - 1):\n",
    "        if pow(generator_candidate, curr_number, prime) == 1:\n",
    "            return False\n",
    "    return True"
   ]
  },
  {
   "cell_type": "code",
   "execution_count": 41,
   "metadata": {},
   "outputs": [],
   "source": [
    "# Mój numer albumu\n",
    "index_number = 406238"
   ]
  },
  {
   "cell_type": "code",
   "execution_count": 42,
   "metadata": {},
   "outputs": [],
   "source": [
    "# 16-bitowa liczba pierwsza wygenerowana za pomocą https://github.com/qperez/blumblumshub/tree/master\n",
    "prime_number = 23627"
   ]
  },
  {
   "cell_type": "code",
   "execution_count": 43,
   "metadata": {},
   "outputs": [
    {
     "name": "stdout",
     "output_type": "stream",
     "text": [
      "Mój numer indeksu 406238 nie jest generatorem Z*23627\n"
     ]
    }
   ],
   "source": [
    "# sprawdź czy numer albumu jest generatorem Z*p\n",
    "if is_generator(index_number, prime_number):\n",
    "    print(\"Mój numer indeksu {index_number} jest generatorem Z*{p}\".format(index_number=index_number, p=prime_number))\n",
    "else:\n",
    "    print(\"Mój numer indeksu {index_number} nie jest generatorem Z*{p}\".format(index_number=index_number, p=prime_number))\n",
    "    "
   ]
  },
  {
   "cell_type": "markdown",
   "metadata": {},
   "source": [
    "Przygotuj metodę w „Pythonie” lub „Sage” pozwalająca wygenerować ciąg wartości będących kolejnymi potęgami dla kolejnych generatorów."
   ]
  },
  {
   "cell_type": "code",
   "execution_count": 44,
   "metadata": {},
   "outputs": [],
   "source": [
    "def get_generator_powers(generator, prime_number, count):\n",
    "    powers = []\n",
    "    for i in range(count):\n",
    "        powers.append(pow(generator, i, prime_number))\n",
    "    return powers"
   ]
  },
  {
   "cell_type": "code",
   "execution_count": 45,
   "metadata": {},
   "outputs": [
    {
     "name": "stdout",
     "output_type": "stream",
     "text": [
      "Kolejne potęgi dla generatorów: [1, 4579, 10092, 20483, 16094]\n"
     ]
    }
   ],
   "source": [
    "generator_powers = get_generator_powers(index_number, prime_number, 5)\n",
    "print(\"Kolejne potęgi dla generatorów: {g_p}\".format(g_p=generator_powers))"
   ]
  },
  {
   "cell_type": "markdown",
   "metadata": {},
   "source": [
    "---"
   ]
  },
  {
   "cell_type": "markdown",
   "metadata": {},
   "source": [
    "## Zad.2\n",
    "\n",
    "Korzystając z generatora BBS_prime wygeneruj dwie różne liczby pierwsze rozmiaru 32 bitów i dla ich iloczynu n=p\\*q sprawdź, czy „Twój” numer indeksu spełnia wymagania klucza kryptograficznego algorytmem RSA dla wygenerowanego n = p\\*q"
   ]
  },
  {
   "cell_type": "code",
   "execution_count": 46,
   "metadata": {},
   "outputs": [],
   "source": [
    "def coprime2(a, b):\n",
    "    return gcd(a, b) == 1"
   ]
  },
  {
   "cell_type": "code",
   "execution_count": 47,
   "metadata": {},
   "outputs": [],
   "source": [
    "def phi(n):\n",
    "    amount = 0        \n",
    "    for k in range(1, n + 1):\n",
    "        if gcd(n, k) == 1:\n",
    "            amount += 1\n",
    "    return amount"
   ]
  },
  {
   "cell_type": "code",
   "execution_count": 48,
   "metadata": {},
   "outputs": [
    {
     "name": "stdout",
     "output_type": "stream",
     "text": [
      "N = 1194617927594329541\n"
     ]
    }
   ],
   "source": [
    "# Wygenerowane za pomocą https://github.com/qperez/blumblumshub/tree/master\n",
    "# p=38639 i q=39791\n",
    "q = 1515505583\n",
    "p = 788263627\n",
    "\n",
    "# Wylicz n\n",
    "n = p*q\n",
    "\n",
    "# Pokaż wyliczone n\n",
    "print(\"N = {n}\".format(n=n))"
   ]
  },
  {
   "cell_type": "code",
   "execution_count": 49,
   "metadata": {},
   "outputs": [],
   "source": [
    "# There is a way to compute the Euler Totient φ very fast if you know the prime factors of n. Let pi be distinct k primes factors of n then\n",
    "# φ(n) = (p1 -1) * (p2-1) * ... * (pk-1)\n",
    "\n",
    "phi_n = (p - 1) * (q - 1)"
   ]
  },
  {
   "cell_type": "code",
   "execution_count": 50,
   "metadata": {},
   "outputs": [
    {
     "name": "stdout",
     "output_type": "stream",
     "text": [
      "Mój numer indeksu (406238) spełnia założenia klucza kryptograficznego dla p=788263627 i q=1515505583\n"
     ]
    }
   ],
   "source": [
    "# Jesli index jest wzgl. pierwszy z fi(n) to nie spełnia wymagań\n",
    "if coprime2(index_number, phi_n):\n",
    "    print(\"Mój numer indeksu ({index_number}) nie spełnia założeń klucza kryptograficznego dla p={p} i q={q}\".format(\n",
    "        index_number=index_number,\n",
    "        p=p,\n",
    "        q=q\n",
    "    ))\n",
    "else:\n",
    "    print(\"Mój numer indeksu ({index_number}) spełnia założenia klucza kryptograficznego dla p={p} i q={q}\".format(\n",
    "        index_number=index_number,\n",
    "        p=p,\n",
    "        q=q\n",
    "    ))"
   ]
  },
  {
   "cell_type": "markdown",
   "metadata": {},
   "source": [
    "---"
   ]
  },
  {
   "cell_type": "markdown",
   "metadata": {},
   "source": [
    "## Zad.3\n",
    "\n",
    "Dla wskazanych przez prowadzącego przykładów (Student_RS, Student_RS1) implementacji szyfrowania algorytmem RSA przeprowadź analizę oraz porównanie ich efektywności i bezpieczeństwa uwzględniając dotychczasowe zajęcia i poznane techniki i metody kryptoanalizy."
   ]
  },
  {
   "cell_type": "code",
   "execution_count": 51,
   "metadata": {},
   "outputs": [],
   "source": [
    "# Bezpieczeństwo RSA zależy przede wszystkim od długości kluczy.\n",
    "# RSA swoje bezpieczeństwo zawdzięcza dobrym wartościom p i q i długościom kluczy\n",
    "# algorytm w obu implementacjach nie pozwala na bezpośrednie ustawienie długości klucza\n",
    "\n",
    "# Wersja RS1 poprawia bezpieczeństwo dodając do algorytmu:\n",
    "# * niestandardową funkcję potegowania binarnego\n",
    "# * szyfrowanie i deszyfrowanie blokowe (bez odpowiedzniego paddingu narażenie na ataki związane z wielkością bloku)\n",
    "# * rozdzielenie funkcji zwracających klucz publiczny i prywatny\n",
    "# * wyeliminiowanie zbędnego i niebezpiecznego zwracania kluczy przy ich generowaniu"
   ]
  },
  {
   "cell_type": "markdown",
   "metadata": {},
   "source": [
    "---"
   ]
  },
  {
   "cell_type": "markdown",
   "metadata": {},
   "source": [
    "## Zad.4"
   ]
  },
  {
   "cell_type": "markdown",
   "metadata": {},
   "source": [
    "Zaimplementuj algorytm potęgowania metodą binarną w szyfrowaniu algorytmem RSA, tak by można było po każdej iteracji związanej z kolejną wartością binarną wykładnika sprawdzić poziom „mieszania” i „rozpraszania” czy też „dyfuzji” i „konfuzji”.\n",
    "\n",
    "Rozkładamy wykładnik na czynniki pierwsze - potęgowanie na mniejszych wartościach."
   ]
  },
  {
   "cell_type": "code",
   "execution_count": 52,
   "metadata": {},
   "outputs": [],
   "source": [
    "def power(a, b, m):\n",
    "    d = 1\n",
    "    k = len(b.bits()) - 1\n",
    "    a_prime_factors = get_prime_factors(a)\n",
    "    for i in range(k, -1, -1):\n",
    "        d = (d * d) % m\n",
    "        \n",
    "        if (b >> i) & 1:\n",
    "            # Dodanie kodu do sprawdzenia dyfuzji i konfuzji po każdej iteracji\n",
    "            for idx, p_f in enumerate(a_prime_factors):\n",
    "                print(f\"Iteracja/poditeracja: {k - i + 1}/{idx + 1} - d: {d}\")\n",
    "                d = d * p_f\n",
    "            d = d % m\n",
    "            print(f\"Iteracja: {k - i + 1} - d: {d}\")\n",
    "            \n",
    "    # Sprawdzenie dyfuzji i konfuzji po zakończeniu potęgowania\n",
    "    print(f\"Zakończone potęgowanie - d: {d}\")\n",
    "\n",
    "    return d"
   ]
  },
  {
   "cell_type": "markdown",
   "metadata": {},
   "source": [
    "---"
   ]
  },
  {
   "cell_type": "markdown",
   "metadata": {},
   "source": [
    "## Zad.5\n",
    "\n",
    "Odszyfruj szyfrogram RSA o wartości s oraz wykonaj odszyfrowane polecenie, wiedząc, że:  \n",
    "\n",
    "\n",
    "s = 92056083186673327707438445422138850995\n",
    "\n",
    "n = p*q = 340277174544854189285703885855116560303 \n",
    "\n",
    "e = 65537. "
   ]
  },
  {
   "cell_type": "markdown",
   "metadata": {},
   "source": [
    "Treść odszyfrowanego polecenia: **`\"Podaj nr albumu\"`**"
   ]
  },
  {
   "cell_type": "markdown",
   "metadata": {},
   "source": [
    "Wykonane polecenie: **`406238`**"
   ]
  }
 ],
 "metadata": {
  "kernelspec": {
   "display_name": "Python 3",
   "language": "python",
   "name": "python3"
  },
  "language_info": {
   "codemirror_mode": {
    "name": "ipython",
    "version": 3
   },
   "file_extension": ".py",
   "mimetype": "text/x-python",
   "name": "python",
   "nbconvert_exporter": "python",
   "pygments_lexer": "ipython3",
   "version": "3.10.11"
  }
 },
 "nbformat": 4,
 "nbformat_minor": 2
}
